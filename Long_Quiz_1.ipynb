{
  "nbformat": 4,
  "nbformat_minor": 0,
  "metadata": {
    "colab": {
      "provenance": [],
      "authorship_tag": "ABX9TyN4560bJaZpOqX/bVz4vTcR",
      "include_colab_link": true
    },
    "kernelspec": {
      "name": "python3",
      "display_name": "Python 3"
    },
    "language_info": {
      "name": "python"
    }
  },
  "cells": [
    {
      "cell_type": "markdown",
      "metadata": {
        "id": "view-in-github",
        "colab_type": "text"
      },
      "source": [
        "<a href=\"https://colab.research.google.com/github/Sunvick/Constant/blob/main/Long_Quiz_1.ipynb\" target=\"_parent\"><img src=\"https://colab.research.google.com/assets/colab-badge.svg\" alt=\"Open In Colab\"/></a>"
      ]
    },
    {
      "cell_type": "code",
      "execution_count": 20,
      "metadata": {
        "colab": {
          "base_uri": "https://localhost:8080/"
        },
        "id": "rk6NZ502PmfU",
        "outputId": "52b1e75f-0d41-431d-b214-9a51b41ccfa4"
      },
      "outputs": [
        {
          "output_type": "stream",
          "name": "stdout",
          "text": [
            "Full name : ['Gencianeo', 'Sunvick', 'Abusca']\n",
            "Reverse of a full name : ['Abusca', 'Sunvick', 'Gencianeo']\n"
          ]
        }
      ],
      "source": [
        "#array that create full name and display reverse \n",
        "array = [\"Gencianeo\",\"Sunvick\",\"Abusca\"]\n",
        "print(\"Full name :\",array)\n",
        "array = [\"Gencianeo\",\"Sunvick\",\"Abusca\"]\n",
        "array.reverse();\n",
        "print(\"Reverse of a full name :\",array)\n"
      ]
    },
    {
      "cell_type": "code",
      "source": [],
      "metadata": {
        "colab": {
          "base_uri": "https://localhost:8080/"
        },
        "id": "AJV7bVzoSHgK",
        "outputId": "5a2af540-f863-456d-8e74-3544ae816b18"
      },
      "execution_count": 19,
      "outputs": [
        {
          "output_type": "stream",
          "name": "stdout",
          "text": [
            "Reverse of a full name : ['Abusca', 'Sunvick', 'Gencianeo']\n"
          ]
        }
      ]
    }
  ]
}