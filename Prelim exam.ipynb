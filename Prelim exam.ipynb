{
  "nbformat": 4,
  "nbformat_minor": 0,
  "metadata": {
    "colab": {
      "provenance": [],
      "authorship_tag": "ABX9TyNu7h3MLcaTyfrTaPYVd/0Y",
      "include_colab_link": true
    },
    "kernelspec": {
      "name": "python3",
      "display_name": "Python 3"
    },
    "language_info": {
      "name": "python"
    }
  },
  "cells": [
    {
      "cell_type": "markdown",
      "metadata": {
        "id": "view-in-github",
        "colab_type": "text"
      },
      "source": [
        "<a href=\"https://colab.research.google.com/github/Sunvick/Constant/blob/main/Prelim%20exam.ipynb\" target=\"_parent\"><img src=\"https://colab.research.google.com/assets/colab-badge.svg\" alt=\"Open In Colab\"/></a>"
      ]
    },
    {
      "cell_type": "code",
      "source": [
        "\n",
        "import numpy as numpy\n",
        "\n",
        "Array = [1, 2, 3, 4, 5, 6, 7, 8, 9, 10]\n",
        "print(Array)\n",
        "\n",
        "num = 2 \n",
        "A = numpy.array([]) \n",
        "numberofeven = 0 \n",
        "\n",
        "while num < 11:  \n",
        "    A = numpy.append(A,[num]) \n",
        "    num=num+2\n",
        "for elements in A: \n",
        "\n",
        "  if (elements % 2 == 0):\n",
        "        numberofeven = numberofeven+1\n",
        "\n",
        "print(\" numbers in array:\", numberofeven)   \n",
        "\n",
        "\n",
        "print(\"Even numbers:\")\n",
        "for num in list1:\n",
        "    # check\n",
        "    if num % 2 == 0:\n",
        "        print(num, end=\" \")"
      ],
      "metadata": {
        "colab": {
          "base_uri": "https://localhost:8080/"
        },
        "id": "Ofguo5oAdz2-",
        "outputId": "3cbca051-06b7-40bc-962c-5ec0f920d17e"
      },
      "execution_count": 90,
      "outputs": [
        {
          "output_type": "stream",
          "name": "stdout",
          "text": [
            "[1, 2, 3, 4, 5, 6, 7, 8, 9, 10]\n",
            " numbers in array: 5\n",
            "Even numbers:\n",
            "2 4 6 8 10 "
          ]
        }
      ]
    }
  ]
}